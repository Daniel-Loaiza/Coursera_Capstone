{
  "nbformat": 4,
  "nbformat_minor": 0,
  "metadata": {
    "kernelspec": {
      "display_name": "Python",
      "language": "python",
      "name": "conda-env-python-py"
    },
    "language_info": {
      "codemirror_mode": {
        "name": "ipython",
        "version": 3
      },
      "file_extension": ".py",
      "mimetype": "text/x-python",
      "name": "python",
      "nbconvert_exporter": "python",
      "pygments_lexer": "ipython3",
      "version": "3.6.10"
    },
    "colab": {
      "name": "Copy of Capstone Project - Regression with Keras.ipynb",
      "provenance": [],
      "collapsed_sections": [],
      "include_colab_link": true
    }
  },
  "cells": [
    {
      "cell_type": "markdown",
      "metadata": {
        "id": "view-in-github",
        "colab_type": "text"
      },
      "source": [
        "<a href=\"https://colab.research.google.com/github/Daniel-Loaiza/Coursera_Capstone/blob/master/Capstone_Project_Regression_with_Keras.ipynb\" target=\"_parent\"><img src=\"https://colab.research.google.com/assets/colab-badge.svg\" alt=\"Open In Colab\"/></a>"
      ]
    },
    {
      "cell_type": "markdown",
      "metadata": {
        "button": false,
        "deletable": true,
        "new_sheet": false,
        "run_control": {
          "read_only": false
        },
        "id": "U8u_VH0oGVut",
        "colab_type": "text"
      },
      "source": [
        "<h1>Peer-graded Assignment: Build a Regression Model in Keras</h1>\n",
        "<h2>Regression Models with Keras</h2>"
      ]
    },
    {
      "cell_type": "markdown",
      "metadata": {
        "id": "RVZ4U_ASM5C_",
        "colab_type": "text"
      },
      "source": [
        "## Assignment Topic"
      ]
    },
    {
      "cell_type": "markdown",
      "metadata": {
        "id": "h9s7hyEzNUTM",
        "colab_type": "text"
      },
      "source": [
        "In this project, you will build a regression model using the Keras library to model the same data about concrete compressive strength that we used in labs 3."
      ]
    },
    {
      "cell_type": "markdown",
      "metadata": {
        "id": "YPqFqf17NYPk",
        "colab_type": "text"
      },
      "source": [
        "## Concrete Data:"
      ]
    },
    {
      "cell_type": "markdown",
      "metadata": {
        "button": false,
        "deletable": true,
        "new_sheet": false,
        "run_control": {
          "read_only": false
        },
        "id": "aiFZ3T_LGVuz",
        "colab_type": "text"
      },
      "source": [
        "\n",
        "\n",
        "The dataset is about the compressive strength of different samples of concrete based on the volumes of the different ingredients that were used to make them. Ingredients include:\n",
        "\n",
        "<strong>1. Cement</strong>\n",
        "\n",
        "<strong>2. Blast Furnace Slag</strong>\n",
        "\n",
        "<strong>3. Fly Ash</strong>\n",
        "\n",
        "<strong>4. Water</strong>\n",
        "\n",
        "<strong>5. Superplasticizer</strong>\n",
        "\n",
        "<strong>6. Coarse Aggregate</strong>\n",
        "\n",
        "<strong>7. Fine Aggregate</strong>"
      ]
    },
    {
      "cell_type": "markdown",
      "metadata": {
        "id": "nbteOeW1NqH2",
        "colab_type": "text"
      },
      "source": [
        "## Assignment exercises"
      ]
    },
    {
      "cell_type": "markdown",
      "metadata": {
        "button": false,
        "deletable": true,
        "new_sheet": false,
        "run_control": {
          "read_only": false
        },
        "id": "_2SOJeqjGVuv",
        "colab_type": "text"
      },
      "source": [
        "## A. Build a baseline model"
      ]
    },
    {
      "cell_type": "markdown",
      "metadata": {
        "button": false,
        "deletable": true,
        "new_sheet": false,
        "run_control": {
          "read_only": false
        },
        "id": "j9aXx8TqGVuu",
        "colab_type": "text"
      },
      "source": [
        "**A.** Build a baseline model (5 marks)\n",
        "\n",
        "Use the Keras library to build a neural network with the following:\n",
        "\n",
        "- One hidden layer of 10 nodes, and a ReLU activation function\n",
        "\n",
        "- Use the adam optimizer and the mean squared error as the loss function.\n",
        "\n",
        "1. Randomly split the data into a training and test sets by holding 30% of the data for testing. You can use the train_test_split helper function from Scikit-learn.\n",
        "\n",
        "2. Train the model on the training data using 50 epochs.\n",
        "\n",
        "3. Evaluate the model on the test data and compute the mean squared error between the predicted concrete strength and the actual concrete strength. You can use the mean_squared_error function from Scikit-learn.\n",
        "\n",
        "4. Repeat steps 1 - 3, 50 times, i.e., create a list of 50 mean squared errors.\n",
        "\n",
        "5. Report the mean and the standard deviation of the mean squared errors.\n",
        "\n",
        "Submit your Jupyter Notebook with your code and comments."
      ]
    },
    {
      "cell_type": "code",
      "metadata": {
        "button": false,
        "deletable": true,
        "new_sheet": false,
        "run_control": {
          "read_only": false
        },
        "id": "7FbBrmbLGVuw",
        "colab_type": "code",
        "colab": {}
      },
      "source": [
        "# Let's start by importing the pandas and the Numpy libraries.\n",
        "import keras\n",
        "from keras.models import Sequential\n",
        "from keras.layers import Dense\n",
        "import pandas as pd\n",
        "import numpy as np\n",
        "\n",
        "# Let's download the data and read it into a pandas dataframe.\n",
        "\n",
        "concrete_data = pd.read_csv('https://s3-api.us-geo.objectstorage.softlayer.net/cf-courses-data/CognitiveClass/DL0101EN/labs/data/concrete_data.csv')\n",
        "# concrete_data.head()\n",
        "\n",
        "# Split data into predictors and target\n",
        "concrete_data_columns = concrete_data.columns\n",
        "\n",
        "predictors = concrete_data[concrete_data_columns[concrete_data_columns != 'Strength']] # all columns except Strength\n",
        "target = concrete_data['Strength'] # Strength column\n",
        "\n",
        "# Let's normalize the data by substracting the mean and dividing by the standard deviation.\n",
        "predictors_norm = (predictors - predictors.mean()) / predictors.std()\n",
        "# predictors_norm.head()\n",
        "\n",
        "# Let's save the number of predictors to n_cols since we will need this number when building our network.\n",
        "n_cols = predictors_norm.shape[1] # number of predictors\n",
        "\n",
        "# Build a Neural Network\n",
        "# Let's define a function that defines our regression model for us so that we can conveniently call it to create our model.\n",
        "\n",
        "# define regression model\n",
        "# This function creates a model that has two hidden layers, each of 50 hidden units.\n",
        "def regression_model():\n",
        "    # create model\n",
        "    model = Sequential()\n",
        "    model.add(Dense(50, activation='relu', input_shape=(n_cols,)))\n",
        "    model.add(Dense(50, activation='relu'))\n",
        "    model.add(Dense(1))\n",
        "    \n",
        "    # compile model\n",
        "    model.compile(optimizer='adam', loss='mean_squared_error')\n",
        "    return model\n",
        "\n",
        "# Train and Test the Network\n",
        "# Let's call the function now to create our model.\n",
        "# build the model\n",
        "model = regression_model()\n",
        "\n",
        "# we will train and test the model at the same time using the fit method. We will leave out 30% of the data for validation and we will train the model for 100 epochs.\n",
        "# fit the model\n",
        "model.fit(predictors_norm, target, validation_split=0.3, epochs=100, verbose=2)\n"
      ],
      "execution_count": 0,
      "outputs": []
    },
    {
      "cell_type": "markdown",
      "metadata": {
        "id": "uTlXieM3LvvJ",
        "colab_type": "text"
      },
      "source": [
        "## B. Normalize the Data"
      ]
    },
    {
      "cell_type": "markdown",
      "metadata": {
        "id": "S0vV5EVdQpA5",
        "colab_type": "text"
      },
      "source": [
        "Repeat Part A but use a normalized version of the data. Recall that one way to normalize the data is by subtracting the mean from the individual predictors and dividing by the standard deviation.\n",
        "\n",
        "**How does the mean of the mean squared errors compare to that from Step A?**\n",
        "\n"
      ]
    },
    {
      "cell_type": "code",
      "metadata": {
        "id": "gYiYIl4PQsf5",
        "colab_type": "code",
        "colab": {}
      },
      "source": [
        ""
      ],
      "execution_count": 0,
      "outputs": []
    },
    {
      "cell_type": "markdown",
      "metadata": {
        "id": "tsc9c_SlQK11",
        "colab_type": "text"
      },
      "source": [
        "## C. Increate the number of epochs"
      ]
    },
    {
      "cell_type": "markdown",
      "metadata": {
        "id": "7BcgUuNBQydT",
        "colab_type": "text"
      },
      "source": [
        "Repeat Part B but use 100 epochs this time for training.\n",
        "\n",
        "How does the mean of the mean squared errors compare to that from Step B?"
      ]
    },
    {
      "cell_type": "markdown",
      "metadata": {
        "id": "tjEw0ClFQS1M",
        "colab_type": "text"
      },
      "source": [
        "## D. Train and Test the Network"
      ]
    },
    {
      "cell_type": "markdown",
      "metadata": {
        "id": "uP_37Hy2RIN7",
        "colab_type": "text"
      },
      "source": [
        "Repeat part B but use a neural network with the following instead:\n",
        "\n",
        "- Three hidden layers, each of 10 nodes and ReLU activation function.\n",
        "\n",
        "How does the mean of the mean squared errors compare to that from Step B?"
      ]
    },
    {
      "cell_type": "code",
      "metadata": {
        "id": "EqhaOE3_RQLq",
        "colab_type": "code",
        "colab": {}
      },
      "source": [
        ""
      ],
      "execution_count": 0,
      "outputs": []
    },
    {
      "cell_type": "markdown",
      "metadata": {
        "button": false,
        "deletable": true,
        "new_sheet": false,
        "run_control": {
          "read_only": false
        },
        "id": "q5xwMC5UGVvh",
        "colab_type": "text"
      },
      "source": [
        "### Thank you for grading this Peer-assignment!"
      ]
    }
  ]
}