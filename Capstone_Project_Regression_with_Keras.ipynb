{
  "nbformat": 4,
  "nbformat_minor": 0,
  "metadata": {
    "kernelspec": {
      "display_name": "Python",
      "language": "python",
      "name": "conda-env-python-py"
    },
    "language_info": {
      "codemirror_mode": {
        "name": "ipython",
        "version": 3
      },
      "file_extension": ".py",
      "mimetype": "text/x-python",
      "name": "python",
      "nbconvert_exporter": "python",
      "pygments_lexer": "ipython3",
      "version": "3.6.10"
    },
    "colab": {
      "name": "Copy of Capstone Project - Regression with Keras.ipynb",
      "provenance": [],
      "collapsed_sections": [],
      "include_colab_link": true
    }
  },
  "cells": [
    {
      "cell_type": "markdown",
      "metadata": {
        "id": "view-in-github",
        "colab_type": "text"
      },
      "source": [
        "<a href=\"https://colab.research.google.com/github/Daniel-Loaiza/Coursera_Capstone/blob/master/Capstone_Project_Regression_with_Keras.ipynb\" target=\"_parent\"><img src=\"https://colab.research.google.com/assets/colab-badge.svg\" alt=\"Open In Colab\"/></a>"
      ]
    },
    {
      "cell_type": "markdown",
      "metadata": {
        "button": false,
        "deletable": true,
        "new_sheet": false,
        "run_control": {
          "read_only": false
        },
        "id": "U8u_VH0oGVut",
        "colab_type": "text"
      },
      "source": [
        "<h1>Peer-graded Assignment: Build a Regression Model in Keras</h1>\n",
        "<h2>Regression Models with Keras</h2>"
      ]
    },
    {
      "cell_type": "markdown",
      "metadata": {
        "id": "RVZ4U_ASM5C_",
        "colab_type": "text"
      },
      "source": [
        "## Assignment Topic"
      ]
    },
    {
      "cell_type": "markdown",
      "metadata": {
        "id": "h9s7hyEzNUTM",
        "colab_type": "text"
      },
      "source": [
        "In this project, you will build a regression model using the Keras library to model the same data about concrete compressive strength that we used in labs 3."
      ]
    },
    {
      "cell_type": "markdown",
      "metadata": {
        "id": "YPqFqf17NYPk",
        "colab_type": "text"
      },
      "source": [
        "## Concrete Data:"
      ]
    },
    {
      "cell_type": "markdown",
      "metadata": {
        "button": false,
        "deletable": true,
        "new_sheet": false,
        "run_control": {
          "read_only": false
        },
        "id": "aiFZ3T_LGVuz",
        "colab_type": "text"
      },
      "source": [
        "\n",
        "\n",
        "The dataset is about the compressive strength of different samples of concrete based on the volumes of the different ingredients that were used to make them. Ingredients include:\n",
        "\n",
        "<strong>1. Cement</strong>\n",
        "\n",
        "<strong>2. Blast Furnace Slag</strong>\n",
        "\n",
        "<strong>3. Fly Ash</strong>\n",
        "\n",
        "<strong>4. Water</strong>\n",
        "\n",
        "<strong>5. Superplasticizer</strong>\n",
        "\n",
        "<strong>6. Coarse Aggregate</strong>\n",
        "\n",
        "<strong>7. Fine Aggregate</strong>"
      ]
    },
    {
      "cell_type": "markdown",
      "metadata": {
        "id": "nbteOeW1NqH2",
        "colab_type": "text"
      },
      "source": [
        "## Assignment instructions"
      ]
    },
    {
      "cell_type": "markdown",
      "metadata": {
        "button": false,
        "deletable": true,
        "new_sheet": false,
        "run_control": {
          "read_only": false
        },
        "id": "5SgTGu0SGVuv",
        "colab_type": "text"
      },
      "source": [
        "## Table of Contents\n",
        "\n",
        "<div class=\"alert alert-block alert-info\" style=\"margin-top: 20px\">\n",
        "\n",
        "<font size = 3>\n",
        "    \n",
        "1. <a href=\"#item31\">A. Build a baseline model</a>  \n",
        "2. <a href=\"#item32\">B. Normalize the Data</a>  \n",
        "3. <a href=\"#item33\">C. Increate the number of epochs</a>  \n",
        "4. <a href=\"#item34\">D. Train and Test the Network</a>  \n",
        "\n",
        "</font>\n",
        "</div>"
      ]
    },
    {
      "cell_type": "markdown",
      "metadata": {
        "button": false,
        "deletable": true,
        "new_sheet": false,
        "run_control": {
          "read_only": false
        },
        "id": "_2SOJeqjGVuv",
        "colab_type": "text"
      },
      "source": [
        "## A. Build a baseline model"
      ]
    },
    {
      "cell_type": "markdown",
      "metadata": {
        "button": false,
        "deletable": true,
        "new_sheet": false,
        "run_control": {
          "read_only": false
        },
        "id": "j9aXx8TqGVuu",
        "colab_type": "text"
      },
      "source": [
        "**A.** Build a baseline model (5 marks)\n",
        "\n",
        "Use the Keras library to build a neural network with the following:\n",
        "\n",
        "- One hidden layer of 10 nodes, and a ReLU activation function\n",
        "\n",
        "- Use the adam optimizer and the mean squared error as the loss function.\n",
        "\n",
        "1. Randomly split the data into a training and test sets by holding 30% of the data for testing. You can use the train_test_split helper function from Scikit-learn.\n",
        "\n",
        "2. Train the model on the training data using 50 epochs.\n",
        "\n",
        "3. Evaluate the model on the test data and compute the mean squared error between the predicted concrete strength and the actual concrete strength. You can use the mean_squared_error function from Scikit-learn.\n",
        "\n",
        "4. Repeat steps 1 - 3, 50 times, i.e., create a list of 50 mean squared errors.\n",
        "\n",
        "5. Report the mean and the standard deviation of the mean squared errors.\n",
        "\n",
        "Submit your Jupyter Notebook with your code and comments."
      ]
    },
    {
      "cell_type": "markdown",
      "metadata": {
        "button": false,
        "deletable": true,
        "new_sheet": false,
        "run_control": {
          "read_only": false
        },
        "id": "lt0y7C9PGVuv",
        "colab_type": "text"
      },
      "source": [
        "<a id=\"item31\"></a>"
      ]
    },
    {
      "cell_type": "markdown",
      "metadata": {
        "button": false,
        "deletable": true,
        "new_sheet": false,
        "run_control": {
          "read_only": false
        },
        "id": "CwPPIx5qGVuw",
        "colab_type": "text"
      },
      "source": [
        "Let's start by importing the <em>pandas</em> and the Numpy libraries."
      ]
    },
    {
      "cell_type": "code",
      "metadata": {
        "button": false,
        "deletable": true,
        "new_sheet": false,
        "run_control": {
          "read_only": false
        },
        "id": "7FbBrmbLGVuw",
        "colab_type": "code",
        "colab": {}
      },
      "source": [
        "import pandas as pd\n",
        "import numpy as np"
      ],
      "execution_count": 0,
      "outputs": []
    },
    {
      "cell_type": "markdown",
      "metadata": {
        "button": false,
        "deletable": true,
        "new_sheet": false,
        "run_control": {
          "read_only": false
        },
        "id": "jVYY9xTWGVuz",
        "colab_type": "text"
      },
      "source": [
        "Let's download the data and read it into a <em>pandas</em> dataframe."
      ]
    },
    {
      "cell_type": "code",
      "metadata": {
        "button": false,
        "deletable": true,
        "new_sheet": false,
        "run_control": {
          "read_only": false
        },
        "id": "ID7A_FN5GVu0",
        "colab_type": "code",
        "outputId": "014b3566-880d-408c-a2ef-64c84cbaf5f4",
        "colab": {
          "base_uri": "https://localhost:8080/",
          "height": 204
        }
      },
      "source": [
        "concrete_data = pd.read_csv('https://s3-api.us-geo.objectstorage.softlayer.net/cf-courses-data/CognitiveClass/DL0101EN/labs/data/concrete_data.csv')\n",
        "concrete_data.head()"
      ],
      "execution_count": 0,
      "outputs": [
        {
          "output_type": "execute_result",
          "data": {
            "text/html": [
              "<div>\n",
              "<style scoped>\n",
              "    .dataframe tbody tr th:only-of-type {\n",
              "        vertical-align: middle;\n",
              "    }\n",
              "\n",
              "    .dataframe tbody tr th {\n",
              "        vertical-align: top;\n",
              "    }\n",
              "\n",
              "    .dataframe thead th {\n",
              "        text-align: right;\n",
              "    }\n",
              "</style>\n",
              "<table border=\"1\" class=\"dataframe\">\n",
              "  <thead>\n",
              "    <tr style=\"text-align: right;\">\n",
              "      <th></th>\n",
              "      <th>Cement</th>\n",
              "      <th>Blast Furnace Slag</th>\n",
              "      <th>Fly Ash</th>\n",
              "      <th>Water</th>\n",
              "      <th>Superplasticizer</th>\n",
              "      <th>Coarse Aggregate</th>\n",
              "      <th>Fine Aggregate</th>\n",
              "      <th>Age</th>\n",
              "      <th>Strength</th>\n",
              "    </tr>\n",
              "  </thead>\n",
              "  <tbody>\n",
              "    <tr>\n",
              "      <th>0</th>\n",
              "      <td>540.0</td>\n",
              "      <td>0.0</td>\n",
              "      <td>0.0</td>\n",
              "      <td>162.0</td>\n",
              "      <td>2.5</td>\n",
              "      <td>1040.0</td>\n",
              "      <td>676.0</td>\n",
              "      <td>28</td>\n",
              "      <td>79.99</td>\n",
              "    </tr>\n",
              "    <tr>\n",
              "      <th>1</th>\n",
              "      <td>540.0</td>\n",
              "      <td>0.0</td>\n",
              "      <td>0.0</td>\n",
              "      <td>162.0</td>\n",
              "      <td>2.5</td>\n",
              "      <td>1055.0</td>\n",
              "      <td>676.0</td>\n",
              "      <td>28</td>\n",
              "      <td>61.89</td>\n",
              "    </tr>\n",
              "    <tr>\n",
              "      <th>2</th>\n",
              "      <td>332.5</td>\n",
              "      <td>142.5</td>\n",
              "      <td>0.0</td>\n",
              "      <td>228.0</td>\n",
              "      <td>0.0</td>\n",
              "      <td>932.0</td>\n",
              "      <td>594.0</td>\n",
              "      <td>270</td>\n",
              "      <td>40.27</td>\n",
              "    </tr>\n",
              "    <tr>\n",
              "      <th>3</th>\n",
              "      <td>332.5</td>\n",
              "      <td>142.5</td>\n",
              "      <td>0.0</td>\n",
              "      <td>228.0</td>\n",
              "      <td>0.0</td>\n",
              "      <td>932.0</td>\n",
              "      <td>594.0</td>\n",
              "      <td>365</td>\n",
              "      <td>41.05</td>\n",
              "    </tr>\n",
              "    <tr>\n",
              "      <th>4</th>\n",
              "      <td>198.6</td>\n",
              "      <td>132.4</td>\n",
              "      <td>0.0</td>\n",
              "      <td>192.0</td>\n",
              "      <td>0.0</td>\n",
              "      <td>978.4</td>\n",
              "      <td>825.5</td>\n",
              "      <td>360</td>\n",
              "      <td>44.30</td>\n",
              "    </tr>\n",
              "  </tbody>\n",
              "</table>\n",
              "</div>"
            ],
            "text/plain": [
              "   Cement  Blast Furnace Slag  Fly Ash  ...  Fine Aggregate  Age  Strength\n",
              "0   540.0                 0.0      0.0  ...           676.0   28     79.99\n",
              "1   540.0                 0.0      0.0  ...           676.0   28     61.89\n",
              "2   332.5               142.5      0.0  ...           594.0  270     40.27\n",
              "3   332.5               142.5      0.0  ...           594.0  365     41.05\n",
              "4   198.6               132.4      0.0  ...           825.5  360     44.30\n",
              "\n",
              "[5 rows x 9 columns]"
            ]
          },
          "metadata": {
            "tags": []
          },
          "execution_count": 2
        }
      ]
    },
    {
      "cell_type": "markdown",
      "metadata": {
        "button": false,
        "deletable": true,
        "new_sheet": false,
        "run_control": {
          "read_only": false
        },
        "id": "mfLYmLoOGVu4",
        "colab_type": "text"
      },
      "source": [
        "So the first concrete sample has 540 cubic meter of cement, 0 cubic meter of blast furnace slag, 0 cubic meter of fly ash, 162 cubic meter of water, 2.5 cubic meter of superplaticizer, 1040 cubic meter of coarse aggregate, 676 cubic meter of fine aggregate. Such a concrete mix which is 28 days old, has a compressive strength of 79.99 MPa. "
      ]
    },
    {
      "cell_type": "markdown",
      "metadata": {
        "button": false,
        "deletable": true,
        "new_sheet": false,
        "run_control": {
          "read_only": false
        },
        "id": "rhc3AULVGVu4",
        "colab_type": "text"
      },
      "source": [
        "#### Let's check how many data points we have."
      ]
    },
    {
      "cell_type": "code",
      "metadata": {
        "button": false,
        "deletable": true,
        "new_sheet": false,
        "run_control": {
          "read_only": false
        },
        "id": "cLsvKgwOGVu5",
        "colab_type": "code",
        "outputId": "b1768bf7-7eae-4ea9-ae34-82bb8931e485",
        "colab": {
          "base_uri": "https://localhost:8080/",
          "height": 34
        }
      },
      "source": [
        "concrete_data.shape"
      ],
      "execution_count": 0,
      "outputs": [
        {
          "output_type": "execute_result",
          "data": {
            "text/plain": [
              "(1030, 9)"
            ]
          },
          "metadata": {
            "tags": []
          },
          "execution_count": 3
        }
      ]
    },
    {
      "cell_type": "markdown",
      "metadata": {
        "button": false,
        "deletable": true,
        "new_sheet": false,
        "run_control": {
          "read_only": false
        },
        "id": "l3lZWvCZGVu7",
        "colab_type": "text"
      },
      "source": [
        "So, there are approximately 1000 samples to train our model on. Because of the few samples, we have to be careful not to overfit the training data."
      ]
    },
    {
      "cell_type": "markdown",
      "metadata": {
        "button": false,
        "deletable": true,
        "new_sheet": false,
        "run_control": {
          "read_only": false
        },
        "id": "16_skxPVGVu7",
        "colab_type": "text"
      },
      "source": [
        "Let's check the dataset for any missing values."
      ]
    },
    {
      "cell_type": "code",
      "metadata": {
        "button": false,
        "deletable": true,
        "new_sheet": false,
        "run_control": {
          "read_only": false
        },
        "id": "XfwEb8BFGVu8",
        "colab_type": "code",
        "outputId": "10928f1a-6aaf-427a-81bf-8b73e28279bb",
        "colab": {
          "base_uri": "https://localhost:8080/",
          "height": 297
        }
      },
      "source": [
        "concrete_data.describe()"
      ],
      "execution_count": 0,
      "outputs": [
        {
          "output_type": "execute_result",
          "data": {
            "text/html": [
              "<div>\n",
              "<style scoped>\n",
              "    .dataframe tbody tr th:only-of-type {\n",
              "        vertical-align: middle;\n",
              "    }\n",
              "\n",
              "    .dataframe tbody tr th {\n",
              "        vertical-align: top;\n",
              "    }\n",
              "\n",
              "    .dataframe thead th {\n",
              "        text-align: right;\n",
              "    }\n",
              "</style>\n",
              "<table border=\"1\" class=\"dataframe\">\n",
              "  <thead>\n",
              "    <tr style=\"text-align: right;\">\n",
              "      <th></th>\n",
              "      <th>Cement</th>\n",
              "      <th>Blast Furnace Slag</th>\n",
              "      <th>Fly Ash</th>\n",
              "      <th>Water</th>\n",
              "      <th>Superplasticizer</th>\n",
              "      <th>Coarse Aggregate</th>\n",
              "      <th>Fine Aggregate</th>\n",
              "      <th>Age</th>\n",
              "      <th>Strength</th>\n",
              "    </tr>\n",
              "  </thead>\n",
              "  <tbody>\n",
              "    <tr>\n",
              "      <th>count</th>\n",
              "      <td>1030.000000</td>\n",
              "      <td>1030.000000</td>\n",
              "      <td>1030.000000</td>\n",
              "      <td>1030.000000</td>\n",
              "      <td>1030.000000</td>\n",
              "      <td>1030.000000</td>\n",
              "      <td>1030.000000</td>\n",
              "      <td>1030.000000</td>\n",
              "      <td>1030.000000</td>\n",
              "    </tr>\n",
              "    <tr>\n",
              "      <th>mean</th>\n",
              "      <td>281.167864</td>\n",
              "      <td>73.895825</td>\n",
              "      <td>54.188350</td>\n",
              "      <td>181.567282</td>\n",
              "      <td>6.204660</td>\n",
              "      <td>972.918932</td>\n",
              "      <td>773.580485</td>\n",
              "      <td>45.662136</td>\n",
              "      <td>35.817961</td>\n",
              "    </tr>\n",
              "    <tr>\n",
              "      <th>std</th>\n",
              "      <td>104.506364</td>\n",
              "      <td>86.279342</td>\n",
              "      <td>63.997004</td>\n",
              "      <td>21.354219</td>\n",
              "      <td>5.973841</td>\n",
              "      <td>77.753954</td>\n",
              "      <td>80.175980</td>\n",
              "      <td>63.169912</td>\n",
              "      <td>16.705742</td>\n",
              "    </tr>\n",
              "    <tr>\n",
              "      <th>min</th>\n",
              "      <td>102.000000</td>\n",
              "      <td>0.000000</td>\n",
              "      <td>0.000000</td>\n",
              "      <td>121.800000</td>\n",
              "      <td>0.000000</td>\n",
              "      <td>801.000000</td>\n",
              "      <td>594.000000</td>\n",
              "      <td>1.000000</td>\n",
              "      <td>2.330000</td>\n",
              "    </tr>\n",
              "    <tr>\n",
              "      <th>25%</th>\n",
              "      <td>192.375000</td>\n",
              "      <td>0.000000</td>\n",
              "      <td>0.000000</td>\n",
              "      <td>164.900000</td>\n",
              "      <td>0.000000</td>\n",
              "      <td>932.000000</td>\n",
              "      <td>730.950000</td>\n",
              "      <td>7.000000</td>\n",
              "      <td>23.710000</td>\n",
              "    </tr>\n",
              "    <tr>\n",
              "      <th>50%</th>\n",
              "      <td>272.900000</td>\n",
              "      <td>22.000000</td>\n",
              "      <td>0.000000</td>\n",
              "      <td>185.000000</td>\n",
              "      <td>6.400000</td>\n",
              "      <td>968.000000</td>\n",
              "      <td>779.500000</td>\n",
              "      <td>28.000000</td>\n",
              "      <td>34.445000</td>\n",
              "    </tr>\n",
              "    <tr>\n",
              "      <th>75%</th>\n",
              "      <td>350.000000</td>\n",
              "      <td>142.950000</td>\n",
              "      <td>118.300000</td>\n",
              "      <td>192.000000</td>\n",
              "      <td>10.200000</td>\n",
              "      <td>1029.400000</td>\n",
              "      <td>824.000000</td>\n",
              "      <td>56.000000</td>\n",
              "      <td>46.135000</td>\n",
              "    </tr>\n",
              "    <tr>\n",
              "      <th>max</th>\n",
              "      <td>540.000000</td>\n",
              "      <td>359.400000</td>\n",
              "      <td>200.100000</td>\n",
              "      <td>247.000000</td>\n",
              "      <td>32.200000</td>\n",
              "      <td>1145.000000</td>\n",
              "      <td>992.600000</td>\n",
              "      <td>365.000000</td>\n",
              "      <td>82.600000</td>\n",
              "    </tr>\n",
              "  </tbody>\n",
              "</table>\n",
              "</div>"
            ],
            "text/plain": [
              "            Cement  Blast Furnace Slag  ...          Age     Strength\n",
              "count  1030.000000         1030.000000  ...  1030.000000  1030.000000\n",
              "mean    281.167864           73.895825  ...    45.662136    35.817961\n",
              "std     104.506364           86.279342  ...    63.169912    16.705742\n",
              "min     102.000000            0.000000  ...     1.000000     2.330000\n",
              "25%     192.375000            0.000000  ...     7.000000    23.710000\n",
              "50%     272.900000           22.000000  ...    28.000000    34.445000\n",
              "75%     350.000000          142.950000  ...    56.000000    46.135000\n",
              "max     540.000000          359.400000  ...   365.000000    82.600000\n",
              "\n",
              "[8 rows x 9 columns]"
            ]
          },
          "metadata": {
            "tags": []
          },
          "execution_count": 4
        }
      ]
    },
    {
      "cell_type": "code",
      "metadata": {
        "button": false,
        "deletable": true,
        "new_sheet": false,
        "run_control": {
          "read_only": false
        },
        "id": "PHGbbA3zGVu-",
        "colab_type": "code",
        "outputId": "f1db6ffb-f7a1-43ae-c5b0-92ccb3550f0e",
        "colab": {
          "base_uri": "https://localhost:8080/",
          "height": 187
        }
      },
      "source": [
        "concrete_data.isnull().sum()"
      ],
      "execution_count": 0,
      "outputs": [
        {
          "output_type": "execute_result",
          "data": {
            "text/plain": [
              "Cement                0\n",
              "Blast Furnace Slag    0\n",
              "Fly Ash               0\n",
              "Water                 0\n",
              "Superplasticizer      0\n",
              "Coarse Aggregate      0\n",
              "Fine Aggregate        0\n",
              "Age                   0\n",
              "Strength              0\n",
              "dtype: int64"
            ]
          },
          "metadata": {
            "tags": []
          },
          "execution_count": 5
        }
      ]
    },
    {
      "cell_type": "markdown",
      "metadata": {
        "button": false,
        "deletable": true,
        "new_sheet": false,
        "run_control": {
          "read_only": false
        },
        "id": "IYUfKnTjGVvB",
        "colab_type": "text"
      },
      "source": [
        "The data looks very clean and is ready to be used to build our model."
      ]
    },
    {
      "cell_type": "markdown",
      "metadata": {
        "button": false,
        "deletable": true,
        "new_sheet": false,
        "run_control": {
          "read_only": false
        },
        "id": "IQJOfmmkGVvB",
        "colab_type": "text"
      },
      "source": [
        "#### Split data into predictors and target"
      ]
    },
    {
      "cell_type": "markdown",
      "metadata": {
        "id": "i2m6lIyKGVvC",
        "colab_type": "text"
      },
      "source": [
        "The target variable in this problem is the concrete sample strength. Therefore, our predictors will be all the other columns."
      ]
    },
    {
      "cell_type": "code",
      "metadata": {
        "button": false,
        "deletable": true,
        "new_sheet": false,
        "run_control": {
          "read_only": false
        },
        "id": "OG7xx5efGVvC",
        "colab_type": "code",
        "colab": {}
      },
      "source": [
        "concrete_data_columns = concrete_data.columns\n",
        "\n",
        "predictors = concrete_data[concrete_data_columns[concrete_data_columns != 'Strength']] # all columns except Strength\n",
        "target = concrete_data['Strength'] # Strength column"
      ],
      "execution_count": 0,
      "outputs": []
    },
    {
      "cell_type": "markdown",
      "metadata": {
        "button": false,
        "deletable": true,
        "new_sheet": false,
        "run_control": {
          "read_only": false
        },
        "id": "3Sz_oJ-fGVvE",
        "colab_type": "text"
      },
      "source": [
        "<a id=\"item2\"></a>"
      ]
    },
    {
      "cell_type": "markdown",
      "metadata": {
        "button": false,
        "deletable": true,
        "new_sheet": false,
        "run_control": {
          "read_only": false
        },
        "id": "-yzDStAkGVvE",
        "colab_type": "text"
      },
      "source": [
        "Let's do a quick sanity check of the predictors and the target dataframes."
      ]
    },
    {
      "cell_type": "code",
      "metadata": {
        "button": false,
        "deletable": true,
        "new_sheet": false,
        "run_control": {
          "read_only": false
        },
        "id": "edlxwCACGVvF",
        "colab_type": "code",
        "outputId": "104232c7-de51-4cf3-a2d5-22fde633161c",
        "colab": {
          "base_uri": "https://localhost:8080/",
          "height": 204
        }
      },
      "source": [
        "predictors.head()"
      ],
      "execution_count": 0,
      "outputs": [
        {
          "output_type": "execute_result",
          "data": {
            "text/html": [
              "<div>\n",
              "<style scoped>\n",
              "    .dataframe tbody tr th:only-of-type {\n",
              "        vertical-align: middle;\n",
              "    }\n",
              "\n",
              "    .dataframe tbody tr th {\n",
              "        vertical-align: top;\n",
              "    }\n",
              "\n",
              "    .dataframe thead th {\n",
              "        text-align: right;\n",
              "    }\n",
              "</style>\n",
              "<table border=\"1\" class=\"dataframe\">\n",
              "  <thead>\n",
              "    <tr style=\"text-align: right;\">\n",
              "      <th></th>\n",
              "      <th>Cement</th>\n",
              "      <th>Blast Furnace Slag</th>\n",
              "      <th>Fly Ash</th>\n",
              "      <th>Water</th>\n",
              "      <th>Superplasticizer</th>\n",
              "      <th>Coarse Aggregate</th>\n",
              "      <th>Fine Aggregate</th>\n",
              "      <th>Age</th>\n",
              "    </tr>\n",
              "  </thead>\n",
              "  <tbody>\n",
              "    <tr>\n",
              "      <th>0</th>\n",
              "      <td>540.0</td>\n",
              "      <td>0.0</td>\n",
              "      <td>0.0</td>\n",
              "      <td>162.0</td>\n",
              "      <td>2.5</td>\n",
              "      <td>1040.0</td>\n",
              "      <td>676.0</td>\n",
              "      <td>28</td>\n",
              "    </tr>\n",
              "    <tr>\n",
              "      <th>1</th>\n",
              "      <td>540.0</td>\n",
              "      <td>0.0</td>\n",
              "      <td>0.0</td>\n",
              "      <td>162.0</td>\n",
              "      <td>2.5</td>\n",
              "      <td>1055.0</td>\n",
              "      <td>676.0</td>\n",
              "      <td>28</td>\n",
              "    </tr>\n",
              "    <tr>\n",
              "      <th>2</th>\n",
              "      <td>332.5</td>\n",
              "      <td>142.5</td>\n",
              "      <td>0.0</td>\n",
              "      <td>228.0</td>\n",
              "      <td>0.0</td>\n",
              "      <td>932.0</td>\n",
              "      <td>594.0</td>\n",
              "      <td>270</td>\n",
              "    </tr>\n",
              "    <tr>\n",
              "      <th>3</th>\n",
              "      <td>332.5</td>\n",
              "      <td>142.5</td>\n",
              "      <td>0.0</td>\n",
              "      <td>228.0</td>\n",
              "      <td>0.0</td>\n",
              "      <td>932.0</td>\n",
              "      <td>594.0</td>\n",
              "      <td>365</td>\n",
              "    </tr>\n",
              "    <tr>\n",
              "      <th>4</th>\n",
              "      <td>198.6</td>\n",
              "      <td>132.4</td>\n",
              "      <td>0.0</td>\n",
              "      <td>192.0</td>\n",
              "      <td>0.0</td>\n",
              "      <td>978.4</td>\n",
              "      <td>825.5</td>\n",
              "      <td>360</td>\n",
              "    </tr>\n",
              "  </tbody>\n",
              "</table>\n",
              "</div>"
            ],
            "text/plain": [
              "   Cement  Blast Furnace Slag  Fly Ash  ...  Coarse Aggregate  Fine Aggregate  Age\n",
              "0   540.0                 0.0      0.0  ...            1040.0           676.0   28\n",
              "1   540.0                 0.0      0.0  ...            1055.0           676.0   28\n",
              "2   332.5               142.5      0.0  ...             932.0           594.0  270\n",
              "3   332.5               142.5      0.0  ...             932.0           594.0  365\n",
              "4   198.6               132.4      0.0  ...             978.4           825.5  360\n",
              "\n",
              "[5 rows x 8 columns]"
            ]
          },
          "metadata": {
            "tags": []
          },
          "execution_count": 7
        }
      ]
    },
    {
      "cell_type": "code",
      "metadata": {
        "button": false,
        "deletable": true,
        "new_sheet": false,
        "run_control": {
          "read_only": false
        },
        "id": "V7FN7qhVGVvH",
        "colab_type": "code",
        "outputId": "02cc5022-daa9-43ee-f2b0-5ced1f922c75",
        "colab": {
          "base_uri": "https://localhost:8080/",
          "height": 119
        }
      },
      "source": [
        "target.head()"
      ],
      "execution_count": 0,
      "outputs": [
        {
          "output_type": "execute_result",
          "data": {
            "text/plain": [
              "0    79.99\n",
              "1    61.89\n",
              "2    40.27\n",
              "3    41.05\n",
              "4    44.30\n",
              "Name: Strength, dtype: float64"
            ]
          },
          "metadata": {
            "tags": []
          },
          "execution_count": 8
        }
      ]
    },
    {
      "cell_type": "markdown",
      "metadata": {
        "button": false,
        "deletable": true,
        "new_sheet": false,
        "run_control": {
          "read_only": false
        },
        "id": "MPji39opGVvL",
        "colab_type": "text"
      },
      "source": [
        "Finally, the last step is to normalize the data by substracting the mean and dividing by the standard deviation."
      ]
    },
    {
      "cell_type": "code",
      "metadata": {
        "button": false,
        "deletable": true,
        "new_sheet": false,
        "run_control": {
          "read_only": false
        },
        "id": "JTxUU-v7GVvL",
        "colab_type": "code",
        "outputId": "641d70e1-eee1-4200-fcc1-49e6683e201a",
        "colab": {
          "base_uri": "https://localhost:8080/",
          "height": 204
        }
      },
      "source": [
        "predictors_norm = (predictors - predictors.mean()) / predictors.std()\n",
        "predictors_norm.head()"
      ],
      "execution_count": 0,
      "outputs": [
        {
          "output_type": "execute_result",
          "data": {
            "text/html": [
              "<div>\n",
              "<style scoped>\n",
              "    .dataframe tbody tr th:only-of-type {\n",
              "        vertical-align: middle;\n",
              "    }\n",
              "\n",
              "    .dataframe tbody tr th {\n",
              "        vertical-align: top;\n",
              "    }\n",
              "\n",
              "    .dataframe thead th {\n",
              "        text-align: right;\n",
              "    }\n",
              "</style>\n",
              "<table border=\"1\" class=\"dataframe\">\n",
              "  <thead>\n",
              "    <tr style=\"text-align: right;\">\n",
              "      <th></th>\n",
              "      <th>Cement</th>\n",
              "      <th>Blast Furnace Slag</th>\n",
              "      <th>Fly Ash</th>\n",
              "      <th>Water</th>\n",
              "      <th>Superplasticizer</th>\n",
              "      <th>Coarse Aggregate</th>\n",
              "      <th>Fine Aggregate</th>\n",
              "      <th>Age</th>\n",
              "    </tr>\n",
              "  </thead>\n",
              "  <tbody>\n",
              "    <tr>\n",
              "      <th>0</th>\n",
              "      <td>2.476712</td>\n",
              "      <td>-0.856472</td>\n",
              "      <td>-0.846733</td>\n",
              "      <td>-0.916319</td>\n",
              "      <td>-0.620147</td>\n",
              "      <td>0.862735</td>\n",
              "      <td>-1.217079</td>\n",
              "      <td>-0.279597</td>\n",
              "    </tr>\n",
              "    <tr>\n",
              "      <th>1</th>\n",
              "      <td>2.476712</td>\n",
              "      <td>-0.856472</td>\n",
              "      <td>-0.846733</td>\n",
              "      <td>-0.916319</td>\n",
              "      <td>-0.620147</td>\n",
              "      <td>1.055651</td>\n",
              "      <td>-1.217079</td>\n",
              "      <td>-0.279597</td>\n",
              "    </tr>\n",
              "    <tr>\n",
              "      <th>2</th>\n",
              "      <td>0.491187</td>\n",
              "      <td>0.795140</td>\n",
              "      <td>-0.846733</td>\n",
              "      <td>2.174405</td>\n",
              "      <td>-1.038638</td>\n",
              "      <td>-0.526262</td>\n",
              "      <td>-2.239829</td>\n",
              "      <td>3.551340</td>\n",
              "    </tr>\n",
              "    <tr>\n",
              "      <th>3</th>\n",
              "      <td>0.491187</td>\n",
              "      <td>0.795140</td>\n",
              "      <td>-0.846733</td>\n",
              "      <td>2.174405</td>\n",
              "      <td>-1.038638</td>\n",
              "      <td>-0.526262</td>\n",
              "      <td>-2.239829</td>\n",
              "      <td>5.055221</td>\n",
              "    </tr>\n",
              "    <tr>\n",
              "      <th>4</th>\n",
              "      <td>-0.790075</td>\n",
              "      <td>0.678079</td>\n",
              "      <td>-0.846733</td>\n",
              "      <td>0.488555</td>\n",
              "      <td>-1.038638</td>\n",
              "      <td>0.070492</td>\n",
              "      <td>0.647569</td>\n",
              "      <td>4.976069</td>\n",
              "    </tr>\n",
              "  </tbody>\n",
              "</table>\n",
              "</div>"
            ],
            "text/plain": [
              "     Cement  Blast Furnace Slag  ...  Fine Aggregate       Age\n",
              "0  2.476712           -0.856472  ...       -1.217079 -0.279597\n",
              "1  2.476712           -0.856472  ...       -1.217079 -0.279597\n",
              "2  0.491187            0.795140  ...       -2.239829  3.551340\n",
              "3  0.491187            0.795140  ...       -2.239829  5.055221\n",
              "4 -0.790075            0.678079  ...        0.647569  4.976069\n",
              "\n",
              "[5 rows x 8 columns]"
            ]
          },
          "metadata": {
            "tags": []
          },
          "execution_count": 9
        }
      ]
    },
    {
      "cell_type": "markdown",
      "metadata": {
        "id": "JzjiaCRvGVvP",
        "colab_type": "text"
      },
      "source": [
        "Let's save the number of predictors to *n_cols* since we will need this number when building our network."
      ]
    },
    {
      "cell_type": "code",
      "metadata": {
        "button": false,
        "deletable": true,
        "new_sheet": false,
        "run_control": {
          "read_only": false
        },
        "id": "5PMGg96tGVvP",
        "colab_type": "code",
        "colab": {}
      },
      "source": [
        "n_cols = predictors_norm.shape[1] # number of predictors"
      ],
      "execution_count": 0,
      "outputs": []
    },
    {
      "cell_type": "markdown",
      "metadata": {
        "button": false,
        "deletable": true,
        "new_sheet": false,
        "run_control": {
          "read_only": false
        },
        "id": "yNyt7M4VGVvQ",
        "colab_type": "text"
      },
      "source": [
        "<a id=\"item1\"></a>"
      ]
    },
    {
      "cell_type": "markdown",
      "metadata": {
        "id": "GZbdzzkPGVvR",
        "colab_type": "text"
      },
      "source": [
        "<a id='item32'></a>"
      ]
    },
    {
      "cell_type": "markdown",
      "metadata": {
        "button": false,
        "deletable": true,
        "new_sheet": false,
        "run_control": {
          "read_only": false
        },
        "id": "jhP50lnPGVvR",
        "colab_type": "text"
      },
      "source": [
        "## Import Keras"
      ]
    },
    {
      "cell_type": "markdown",
      "metadata": {
        "button": false,
        "deletable": true,
        "new_sheet": false,
        "run_control": {
          "read_only": false
        },
        "id": "XOESbGGhGVvR",
        "colab_type": "text"
      },
      "source": [
        "Recall from the videos that Keras normally runs on top of a low-level library such as TensorFlow. This means that to be able to use the Keras library, you will have to install TensorFlow first and when you import the Keras library, it will be explicitly displayed what backend was used to install the Keras library. In CC Labs, we used TensorFlow as the backend to install Keras, so it should clearly print that when we import Keras."
      ]
    },
    {
      "cell_type": "markdown",
      "metadata": {
        "button": false,
        "deletable": true,
        "new_sheet": false,
        "run_control": {
          "read_only": false
        },
        "id": "FLqpWOIgGVvR",
        "colab_type": "text"
      },
      "source": [
        "#### Let's go ahead and import the Keras library"
      ]
    },
    {
      "cell_type": "code",
      "metadata": {
        "button": false,
        "deletable": true,
        "new_sheet": false,
        "run_control": {
          "read_only": false
        },
        "id": "wdkI_pLdGVvS",
        "colab_type": "code",
        "outputId": "0f5733f3-48c4-4995-abca-cde02370d8f1",
        "colab": {
          "base_uri": "https://localhost:8080/",
          "height": 34
        }
      },
      "source": [
        "import keras"
      ],
      "execution_count": 0,
      "outputs": [
        {
          "output_type": "stream",
          "text": [
            "Using TensorFlow backend.\n"
          ],
          "name": "stderr"
        }
      ]
    },
    {
      "cell_type": "markdown",
      "metadata": {
        "button": false,
        "deletable": true,
        "new_sheet": false,
        "run_control": {
          "read_only": false
        },
        "id": "tH00MpCqGVvT",
        "colab_type": "text"
      },
      "source": [
        "As you can see, the TensorFlow backend was used to install the Keras library."
      ]
    },
    {
      "cell_type": "markdown",
      "metadata": {
        "button": false,
        "deletable": true,
        "new_sheet": false,
        "run_control": {
          "read_only": false
        },
        "id": "Z43NGWKpGVvU",
        "colab_type": "text"
      },
      "source": [
        "Let's import the rest of the packages from the Keras library that we will need to build our regressoin model."
      ]
    },
    {
      "cell_type": "code",
      "metadata": {
        "button": false,
        "deletable": true,
        "new_sheet": false,
        "run_control": {
          "read_only": false
        },
        "id": "N9RWU4HLGVvU",
        "colab_type": "code",
        "colab": {}
      },
      "source": [
        "from keras.models import Sequential\n",
        "from keras.layers import Dense"
      ],
      "execution_count": 0,
      "outputs": []
    },
    {
      "cell_type": "markdown",
      "metadata": {
        "id": "xhHKNbUJGVvW",
        "colab_type": "text"
      },
      "source": [
        "<a id='item33'></a>"
      ]
    },
    {
      "cell_type": "markdown",
      "metadata": {
        "button": false,
        "deletable": true,
        "new_sheet": false,
        "run_control": {
          "read_only": false
        },
        "id": "-gZSCdTbGVvX",
        "colab_type": "text"
      },
      "source": [
        "## Build a Neural Network"
      ]
    },
    {
      "cell_type": "markdown",
      "metadata": {
        "button": false,
        "deletable": true,
        "new_sheet": false,
        "run_control": {
          "read_only": false
        },
        "id": "SrwCcRvyGVvX",
        "colab_type": "text"
      },
      "source": [
        "Let's define a function that defines our regression model for us so that we can conveniently call it to create our model."
      ]
    },
    {
      "cell_type": "code",
      "metadata": {
        "button": false,
        "deletable": true,
        "new_sheet": false,
        "run_control": {
          "read_only": false
        },
        "id": "Z4WQfLKIGVvY",
        "colab_type": "code",
        "colab": {}
      },
      "source": [
        "# define regression model\n",
        "def regression_model():\n",
        "    # create model\n",
        "    model = Sequential()\n",
        "    model.add(Dense(50, activation='relu', input_shape=(n_cols,)))\n",
        "    model.add(Dense(50, activation='relu'))\n",
        "    model.add(Dense(1))\n",
        "    \n",
        "    # compile model\n",
        "    model.compile(optimizer='adam', loss='mean_squared_error')\n",
        "    return model"
      ],
      "execution_count": 0,
      "outputs": []
    },
    {
      "cell_type": "markdown",
      "metadata": {
        "id": "H5jwEPVGGVvb",
        "colab_type": "text"
      },
      "source": [
        "The above function create a model that has two hidden layers, each of 50 hidden units."
      ]
    },
    {
      "cell_type": "markdown",
      "metadata": {
        "button": false,
        "deletable": true,
        "new_sheet": false,
        "run_control": {
          "read_only": false
        },
        "id": "0_OS3EhQGVvc",
        "colab_type": "text"
      },
      "source": [
        "<a id=\"item4\"></a>"
      ]
    },
    {
      "cell_type": "markdown",
      "metadata": {
        "id": "ncxnB7H0GVvc",
        "colab_type": "text"
      },
      "source": [
        "<a id='item34'></a>"
      ]
    },
    {
      "cell_type": "markdown",
      "metadata": {
        "button": false,
        "deletable": true,
        "new_sheet": false,
        "run_control": {
          "read_only": false
        },
        "id": "_vfn127uGVvc",
        "colab_type": "text"
      },
      "source": [
        "## Train and Test the Network"
      ]
    },
    {
      "cell_type": "markdown",
      "metadata": {
        "id": "FJnOevK4GVvd",
        "colab_type": "text"
      },
      "source": [
        "Let's call the function now to create our model."
      ]
    },
    {
      "cell_type": "code",
      "metadata": {
        "button": false,
        "deletable": true,
        "new_sheet": false,
        "run_control": {
          "read_only": false
        },
        "id": "JGfFBifmGVvd",
        "colab_type": "code",
        "colab": {}
      },
      "source": [
        "# build the model\n",
        "model = regression_model()"
      ],
      "execution_count": 0,
      "outputs": []
    },
    {
      "cell_type": "markdown",
      "metadata": {
        "id": "hnuSGVOoGVvf",
        "colab_type": "text"
      },
      "source": [
        "Next, we will train and test the model at the same time using the *fit* method. We will leave out 30% of the data for validation and we will train the model for 100 epochs."
      ]
    },
    {
      "cell_type": "code",
      "metadata": {
        "id": "yYSZm2sgGVvf",
        "colab_type": "code",
        "outputId": "f5b9a0c3-385f-4c17-fef4-9e761f1fef94",
        "colab": {
          "base_uri": "https://localhost:8080/",
          "height": 1000
        }
      },
      "source": [
        "# fit the model\n",
        "model.fit(predictors_norm, target, validation_split=0.3, epochs=100, verbose=2)"
      ],
      "execution_count": 0,
      "outputs": [
        {
          "output_type": "stream",
          "text": [
            "Train on 721 samples, validate on 309 samples\n",
            "Epoch 1/100\n",
            " - 0s - loss: 1636.9221 - val_loss: 1131.6667\n",
            "Epoch 2/100\n",
            " - 0s - loss: 1500.9255 - val_loss: 1004.8303\n",
            "Epoch 3/100\n",
            " - 0s - loss: 1272.2806 - val_loss: 812.6451\n",
            "Epoch 4/100\n",
            " - 0s - loss: 933.8486 - val_loss: 573.9740\n",
            "Epoch 5/100\n",
            " - 0s - loss: 567.1918 - val_loss: 352.0006\n",
            "Epoch 6/100\n",
            " - 0s - loss: 318.5351 - val_loss: 227.5463\n",
            "Epoch 7/100\n",
            " - 0s - loss: 239.5422 - val_loss: 194.3998\n",
            "Epoch 8/100\n",
            " - 0s - loss: 217.0102 - val_loss: 187.0068\n",
            "Epoch 9/100\n",
            " - 0s - loss: 203.5189 - val_loss: 183.1370\n",
            "Epoch 10/100\n",
            " - 0s - loss: 195.5735 - val_loss: 181.0068\n",
            "Epoch 11/100\n",
            " - 0s - loss: 187.9064 - val_loss: 176.0434\n",
            "Epoch 12/100\n",
            " - 0s - loss: 181.8191 - val_loss: 175.2532\n",
            "Epoch 13/100\n",
            " - 0s - loss: 176.9222 - val_loss: 173.2833\n",
            "Epoch 14/100\n",
            " - 0s - loss: 172.2870 - val_loss: 173.5153\n",
            "Epoch 15/100\n",
            " - 0s - loss: 168.1186 - val_loss: 172.9523\n",
            "Epoch 16/100\n",
            " - 0s - loss: 164.7823 - val_loss: 170.2526\n",
            "Epoch 17/100\n",
            " - 0s - loss: 161.7720 - val_loss: 170.2861\n",
            "Epoch 18/100\n",
            " - 0s - loss: 158.8375 - val_loss: 169.8144\n",
            "Epoch 19/100\n",
            " - 0s - loss: 156.8875 - val_loss: 169.8000\n",
            "Epoch 20/100\n",
            " - 0s - loss: 154.3693 - val_loss: 168.4874\n",
            "Epoch 21/100\n",
            " - 0s - loss: 152.1633 - val_loss: 168.5125\n",
            "Epoch 22/100\n",
            " - 0s - loss: 150.3183 - val_loss: 170.5713\n",
            "Epoch 23/100\n",
            " - 0s - loss: 148.4809 - val_loss: 167.2516\n",
            "Epoch 24/100\n",
            " - 0s - loss: 146.9872 - val_loss: 167.6088\n",
            "Epoch 25/100\n",
            " - 0s - loss: 145.0628 - val_loss: 170.4529\n",
            "Epoch 26/100\n",
            " - 0s - loss: 143.1576 - val_loss: 167.7097\n",
            "Epoch 27/100\n",
            " - 0s - loss: 141.6085 - val_loss: 169.2780\n",
            "Epoch 28/100\n",
            " - 0s - loss: 140.0510 - val_loss: 170.1306\n",
            "Epoch 29/100\n",
            " - 0s - loss: 138.9345 - val_loss: 168.8401\n",
            "Epoch 30/100\n",
            " - 0s - loss: 137.3850 - val_loss: 169.0847\n",
            "Epoch 31/100\n",
            " - 0s - loss: 135.9153 - val_loss: 170.8110\n",
            "Epoch 32/100\n",
            " - 0s - loss: 134.8800 - val_loss: 166.4073\n",
            "Epoch 33/100\n",
            " - 0s - loss: 133.1145 - val_loss: 169.7329\n",
            "Epoch 34/100\n",
            " - 0s - loss: 132.2098 - val_loss: 170.1206\n",
            "Epoch 35/100\n",
            " - 0s - loss: 130.2856 - val_loss: 167.6468\n",
            "Epoch 36/100\n",
            " - 0s - loss: 128.7345 - val_loss: 169.8174\n",
            "Epoch 37/100\n",
            " - 0s - loss: 127.4630 - val_loss: 167.4968\n",
            "Epoch 38/100\n",
            " - 0s - loss: 126.7947 - val_loss: 170.5467\n",
            "Epoch 39/100\n",
            " - 0s - loss: 124.2188 - val_loss: 168.6125\n",
            "Epoch 40/100\n",
            " - 0s - loss: 123.0179 - val_loss: 166.5207\n",
            "Epoch 41/100\n",
            " - 0s - loss: 121.7989 - val_loss: 167.3653\n",
            "Epoch 42/100\n",
            " - 0s - loss: 120.2097 - val_loss: 166.6971\n",
            "Epoch 43/100\n",
            " - 0s - loss: 118.8770 - val_loss: 160.9118\n",
            "Epoch 44/100\n",
            " - 0s - loss: 116.7373 - val_loss: 165.8510\n",
            "Epoch 45/100\n",
            " - 0s - loss: 115.3296 - val_loss: 165.3658\n",
            "Epoch 46/100\n",
            " - 0s - loss: 113.3652 - val_loss: 166.3611\n",
            "Epoch 47/100\n",
            " - 0s - loss: 111.8066 - val_loss: 159.4182\n",
            "Epoch 48/100\n",
            " - 0s - loss: 110.7599 - val_loss: 159.3669\n",
            "Epoch 49/100\n",
            " - 0s - loss: 108.4380 - val_loss: 162.0957\n",
            "Epoch 50/100\n",
            " - 0s - loss: 106.2176 - val_loss: 159.1820\n",
            "Epoch 51/100\n",
            " - 0s - loss: 104.2844 - val_loss: 158.6194\n",
            "Epoch 52/100\n",
            " - 0s - loss: 102.4943 - val_loss: 153.2859\n",
            "Epoch 53/100\n",
            " - 0s - loss: 100.7391 - val_loss: 155.8893\n",
            "Epoch 54/100\n",
            " - 0s - loss: 99.2475 - val_loss: 151.7739\n",
            "Epoch 55/100\n",
            " - 0s - loss: 96.8732 - val_loss: 155.0806\n",
            "Epoch 56/100\n",
            " - 0s - loss: 95.0765 - val_loss: 151.2010\n",
            "Epoch 57/100\n",
            " - 0s - loss: 93.3756 - val_loss: 154.0919\n",
            "Epoch 58/100\n",
            " - 0s - loss: 91.6229 - val_loss: 150.2993\n",
            "Epoch 59/100\n",
            " - 0s - loss: 89.2893 - val_loss: 147.9759\n",
            "Epoch 60/100\n",
            " - 0s - loss: 86.8709 - val_loss: 150.4201\n",
            "Epoch 61/100\n",
            " - 0s - loss: 84.5349 - val_loss: 149.0434\n",
            "Epoch 62/100\n",
            " - 0s - loss: 83.2915 - val_loss: 141.8292\n",
            "Epoch 63/100\n",
            " - 0s - loss: 81.1284 - val_loss: 144.7956\n",
            "Epoch 64/100\n",
            " - 0s - loss: 78.7260 - val_loss: 143.5024\n",
            "Epoch 65/100\n",
            " - 0s - loss: 77.0525 - val_loss: 139.8729\n",
            "Epoch 66/100\n",
            " - 0s - loss: 74.7550 - val_loss: 139.6699\n",
            "Epoch 67/100\n",
            " - 0s - loss: 73.5573 - val_loss: 144.8649\n",
            "Epoch 68/100\n",
            " - 0s - loss: 70.6870 - val_loss: 138.6713\n",
            "Epoch 69/100\n",
            " - 0s - loss: 68.7745 - val_loss: 138.2593\n",
            "Epoch 70/100\n",
            " - 0s - loss: 67.3578 - val_loss: 132.6959\n",
            "Epoch 71/100\n",
            " - 0s - loss: 65.5995 - val_loss: 134.2835\n",
            "Epoch 72/100\n",
            " - 0s - loss: 63.9123 - val_loss: 134.2758\n",
            "Epoch 73/100\n",
            " - 0s - loss: 62.7974 - val_loss: 133.1985\n",
            "Epoch 74/100\n",
            " - 0s - loss: 61.3489 - val_loss: 134.6710\n",
            "Epoch 75/100\n",
            " - 0s - loss: 60.0580 - val_loss: 131.3044\n",
            "Epoch 76/100\n",
            " - 0s - loss: 58.9479 - val_loss: 134.5577\n",
            "Epoch 77/100\n",
            " - 0s - loss: 57.3581 - val_loss: 129.9688\n",
            "Epoch 78/100\n",
            " - 0s - loss: 56.3108 - val_loss: 132.4328\n",
            "Epoch 79/100\n",
            " - 0s - loss: 55.0849 - val_loss: 126.7276\n",
            "Epoch 80/100\n",
            " - 0s - loss: 54.6823 - val_loss: 120.5265\n",
            "Epoch 81/100\n",
            " - 0s - loss: 54.5998 - val_loss: 128.8109\n",
            "Epoch 82/100\n",
            " - 0s - loss: 52.1043 - val_loss: 124.2797\n",
            "Epoch 83/100\n",
            " - 0s - loss: 51.0821 - val_loss: 117.9207\n",
            "Epoch 84/100\n",
            " - 0s - loss: 49.8342 - val_loss: 121.3415\n",
            "Epoch 85/100\n",
            " - 0s - loss: 49.1862 - val_loss: 118.8408\n",
            "Epoch 86/100\n",
            " - 0s - loss: 48.6284 - val_loss: 117.4596\n",
            "Epoch 87/100\n",
            " - 0s - loss: 47.4153 - val_loss: 118.5677\n",
            "Epoch 88/100\n",
            " - 0s - loss: 47.4057 - val_loss: 124.9950\n",
            "Epoch 89/100\n",
            " - 0s - loss: 46.2869 - val_loss: 108.1231\n",
            "Epoch 90/100\n",
            " - 0s - loss: 45.1875 - val_loss: 121.9355\n",
            "Epoch 91/100\n",
            " - 0s - loss: 45.1077 - val_loss: 108.1260\n",
            "Epoch 92/100\n",
            " - 0s - loss: 44.0111 - val_loss: 118.1268\n",
            "Epoch 93/100\n",
            " - 0s - loss: 43.6772 - val_loss: 112.0069\n",
            "Epoch 94/100\n",
            " - 0s - loss: 42.9110 - val_loss: 114.3651\n",
            "Epoch 95/100\n",
            " - 0s - loss: 42.5696 - val_loss: 106.6289\n",
            "Epoch 96/100\n",
            " - 0s - loss: 42.2149 - val_loss: 120.9882\n",
            "Epoch 97/100\n",
            " - 0s - loss: 41.1665 - val_loss: 111.4777\n",
            "Epoch 98/100\n",
            " - 0s - loss: 40.6833 - val_loss: 120.0715\n",
            "Epoch 99/100\n",
            " - 0s - loss: 40.5521 - val_loss: 108.8552\n",
            "Epoch 100/100\n",
            " - 0s - loss: 39.7952 - val_loss: 121.5608\n"
          ],
          "name": "stdout"
        },
        {
          "output_type": "execute_result",
          "data": {
            "text/plain": [
              "<keras.callbacks.callbacks.History at 0x7fc55eb36e48>"
            ]
          },
          "metadata": {
            "tags": []
          },
          "execution_count": 15
        }
      ]
    },
    {
      "cell_type": "markdown",
      "metadata": {
        "button": false,
        "deletable": true,
        "new_sheet": false,
        "run_control": {
          "read_only": false
        },
        "id": "kZWVHJ-JGVvh",
        "colab_type": "text"
      },
      "source": [
        "<strong>You can refer to this [link](https://keras.io/models/sequential/) to learn about other functions that you can use for prediction or evaluation.</strong>"
      ]
    },
    {
      "cell_type": "markdown",
      "metadata": {
        "button": false,
        "deletable": true,
        "new_sheet": false,
        "run_control": {
          "read_only": false
        },
        "id": "htYN5dfJGVvh",
        "colab_type": "text"
      },
      "source": [
        "Feel free to vary the following and note what impact each change has on the model's performance:\n",
        "\n",
        "1. Increase or decreate number of neurons in hidden layers\n",
        "2. Add more hidden layers\n",
        "3. Increase number of epochs"
      ]
    },
    {
      "cell_type": "markdown",
      "metadata": {
        "id": "uTlXieM3LvvJ",
        "colab_type": "text"
      },
      "source": [
        "## B. Normalize the Data"
      ]
    },
    {
      "cell_type": "markdown",
      "metadata": {
        "id": "S0vV5EVdQpA5",
        "colab_type": "text"
      },
      "source": [
        "Repeat Part A but use a normalized version of the data. Recall that one way to normalize the data is by subtracting the mean from the individual predictors and dividing by the standard deviation.\n",
        "\n",
        "**How does the mean of the mean squared errors compare to that from Step A?**\n",
        "\n"
      ]
    },
    {
      "cell_type": "code",
      "metadata": {
        "id": "gYiYIl4PQsf5",
        "colab_type": "code",
        "colab": {}
      },
      "source": [
        ""
      ],
      "execution_count": 0,
      "outputs": []
    },
    {
      "cell_type": "markdown",
      "metadata": {
        "id": "tsc9c_SlQK11",
        "colab_type": "text"
      },
      "source": [
        "## C. Increate the number of epochs"
      ]
    },
    {
      "cell_type": "markdown",
      "metadata": {
        "id": "7BcgUuNBQydT",
        "colab_type": "text"
      },
      "source": [
        "Repeat Part B but use 100 epochs this time for training.\n",
        "\n",
        "How does the mean of the mean squared errors compare to that from Step B?"
      ]
    },
    {
      "cell_type": "markdown",
      "metadata": {
        "id": "tjEw0ClFQS1M",
        "colab_type": "text"
      },
      "source": [
        "## D. Train and Test the Network"
      ]
    },
    {
      "cell_type": "markdown",
      "metadata": {
        "id": "uP_37Hy2RIN7",
        "colab_type": "text"
      },
      "source": [
        "Repeat part B but use a neural network with the following instead:\n",
        "\n",
        "- Three hidden layers, each of 10 nodes and ReLU activation function.\n",
        "\n",
        "How does the mean of the mean squared errors compare to that from Step B?"
      ]
    },
    {
      "cell_type": "code",
      "metadata": {
        "id": "EqhaOE3_RQLq",
        "colab_type": "code",
        "colab": {}
      },
      "source": [
        ""
      ],
      "execution_count": 0,
      "outputs": []
    },
    {
      "cell_type": "markdown",
      "metadata": {
        "button": false,
        "deletable": true,
        "new_sheet": false,
        "run_control": {
          "read_only": false
        },
        "id": "q5xwMC5UGVvh",
        "colab_type": "text"
      },
      "source": [
        "### Thank you for grading this Peer-assignment!"
      ]
    }
  ]
}