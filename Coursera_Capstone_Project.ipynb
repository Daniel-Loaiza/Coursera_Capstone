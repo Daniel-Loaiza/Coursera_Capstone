{
  "nbformat": 4,
  "nbformat_minor": 0,
  "metadata": {
    "colab": {
      "name": "Coursera_Capstone_Project.ipynb",
      "provenance": [],
      "mount_file_id": "https://github.com/Daniel-Loaiza/Coursera_Capstone/blob/master/Coursera_Capstone_Project.ipynb",
      "authorship_tag": "ABX9TyOi2rKCqZf6RvDGdBeqcRLL",
      "include_colab_link": true
    },
    "kernelspec": {
      "name": "python3",
      "display_name": "Python 3"
    }
  },
  "cells": [
    {
      "cell_type": "markdown",
      "metadata": {
        "id": "view-in-github",
        "colab_type": "text"
      },
      "source": [
        "<a href=\"https://colab.research.google.com/github/Daniel-Loaiza/Coursera_Capstone/blob/master/Coursera_Capstone_Project.ipynb\" target=\"_parent\"><img src=\"https://colab.research.google.com/assets/colab-badge.svg\" alt=\"Open In Colab\"/></a>"
      ]
    },
    {
      "cell_type": "markdown",
      "metadata": {
        "id": "1gnF8FAyoF3K",
        "colab_type": "text"
      },
      "source": [
        "#Coursera Capstone Project"
      ]
    },
    {
      "cell_type": "markdown",
      "metadata": {
        "id": "CInhO26qpxap",
        "colab_type": "text"
      },
      "source": [
        "## Instructions"
      ]
    },
    {
      "cell_type": "markdown",
      "metadata": {
        "id": "_WfRvxt8oL53",
        "colab_type": "text"
      },
      "source": [
        "Start a Jupyter Notebook using any platform that you are comfortable with and do the following:"
      ]
    },
    {
      "cell_type": "markdown",
      "metadata": {
        "id": "pD9E9ABxoQlE",
        "colab_type": "text"
      },
      "source": [
        "**1.** Write some markdown to explain that this notebook will be mainly used for the capstone project.\n",
        "\n"
      ]
    },
    {
      "cell_type": "markdown",
      "metadata": {
        "id": "z8nxTcOtokSm",
        "colab_type": "text"
      },
      "source": [
        "This Jupyter Notebook is going to be used mainly for the developement of the Capstone Project."
      ]
    },
    {
      "cell_type": "markdown",
      "metadata": {
        "id": "dMaOReFep2wp",
        "colab_type": "text"
      },
      "source": [
        "**2.** Import the pandas library as pd.<br> \n",
        "**3.** Import the Numpy library as np."
      ]
    },
    {
      "cell_type": "code",
      "metadata": {
        "id": "3tWKCMG_kWeJ",
        "colab_type": "code",
        "colab": {}
      },
      "source": [
        "import pandas as pd\n",
        "import numpy as np"
      ],
      "execution_count": 0,
      "outputs": []
    },
    {
      "cell_type": "markdown",
      "metadata": {
        "id": "Beav-sfPrcF6",
        "colab_type": "text"
      },
      "source": [
        "**4.** Print the following the statement: Hello Capstone Project Course!"
      ]
    },
    {
      "cell_type": "code",
      "metadata": {
        "id": "gMuyWWZcqLhg",
        "colab_type": "code",
        "colab": {
          "base_uri": "https://localhost:8080/",
          "height": 34
        },
        "outputId": "df5d9f93-1ba3-4557-b54c-66030e7b8702"
      },
      "source": [
        "print('Hello Capstone Project Course!')"
      ],
      "execution_count": 2,
      "outputs": [
        {
          "output_type": "stream",
          "text": [
            "Hello Capstone Project Course!\n"
          ],
          "name": "stdout"
        }
      ]
    },
    {
      "cell_type": "code",
      "metadata": {
        "id": "MH3SLG1Prsfj",
        "colab_type": "code",
        "colab": {}
      },
      "source": [
        ""
      ],
      "execution_count": 0,
      "outputs": []
    }
  ]
}