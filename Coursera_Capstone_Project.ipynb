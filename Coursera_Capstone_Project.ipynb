{
  "nbformat": 4,
  "nbformat_minor": 0,
  "metadata": {
    "colab": {
      "name": "Coursera_Capstone_Project.ipynb",
      "provenance": [],
      "mount_file_id": "https://github.com/Daniel-Loaiza/Coursera_Capstone/blob/master/Coursera_Capstone_Project.ipynb",
      "authorship_tag": "ABX9TyNzq4MgOuAkYVFGby8/i/QE"
    },
    "kernelspec": {
      "name": "python3",
      "display_name": "Python 3"
    }
  },
  "cells": [
    {
      "cell_type": "markdown",
      "metadata": {
        "id": "1gnF8FAyoF3K",
        "colab_type": "text"
      },
      "source": [
        "#Coursera Capstone Project"
      ]
    },
    {
      "cell_type": "markdown",
      "metadata": {
        "id": "CInhO26qpxap",
        "colab_type": "text"
      },
      "source": [
        "## Instructions"
      ]
    },
    {
      "cell_type": "markdown",
      "metadata": {
        "id": "_WfRvxt8oL53",
        "colab_type": "text"
      },
      "source": [
        "Start a Jupyter Notebook using any platform that you are comfortable with and do the following:"
      ]
    },
    {
      "cell_type": "markdown",
      "metadata": {
        "id": "pD9E9ABxoQlE",
        "colab_type": "text"
      },
      "source": [
        "**1.** Write some markdown to explain that this notebook will be mainly used for the capstone project.\n",
        "\n"
      ]
    },
    {
      "cell_type": "markdown",
      "metadata": {
        "id": "z8nxTcOtokSm",
        "colab_type": "text"
      },
      "source": [
        "This Jupyter Notebook is going to be used mainly for the developement of the Capstone Project."
      ]
    },
    {
      "cell_type": "markdown",
      "metadata": {
        "id": "dMaOReFep2wp",
        "colab_type": "text"
      },
      "source": [
        "**2.** Import the pandas library as pd.<br> \n",
        "**3.** Import the Numpy library as np."
      ]
    },
    {
      "cell_type": "code",
      "metadata": {
        "id": "3tWKCMG_kWeJ",
        "colab_type": "code",
        "colab": {}
      },
      "source": [
        "import pandas as pd\n",
        "import numpy as np"
      ],
      "execution_count": 0,
      "outputs": []
    },
    {
      "cell_type": "markdown",
      "metadata": {
        "id": "Beav-sfPrcF6",
        "colab_type": "text"
      },
      "source": [
        "**4.** Print the following the statement: Hello Capstone Project Course!"
      ]
    },
    {
      "cell_type": "code",
      "metadata": {
        "id": "gMuyWWZcqLhg",
        "colab_type": "code",
        "outputId": "df5d9f93-1ba3-4557-b54c-66030e7b8702",
        "colab": {
          "base_uri": "https://localhost:8080/",
          "height": 34
        }
      },
      "source": [
        "print('Hello Capstone Project Course!')"
      ],
      "execution_count": 0,
      "outputs": [
        {
          "output_type": "stream",
          "text": [
            "Hello Capstone Project Course!\n"
          ],
          "name": "stdout"
        }
      ]
    },
    {
      "cell_type": "markdown",
      "metadata": {
        "id": "Y2vqAakxuOqN",
        "colab_type": "text"
      },
      "source": [
        "Push the Notebook to your Github repository and submit a link to the notebook on your Github repository."
      ]
    },
    {
      "cell_type": "code",
      "metadata": {
        "id": "qZYGJVM7SI7i",
        "colab_type": "code",
        "colab": {}
      },
      "source": [
        "pd.read_html?"
      ],
      "execution_count": 0,
      "outputs": []
    },
    {
      "cell_type": "code",
      "metadata": {
        "id": "ADavJ_v6QCxw",
        "colab_type": "code",
        "colab": {}
      },
      "source": [
        "df = pd.read_html('http://en.wikipedia.org/wiki/List_of_postal_codes_of_Canada:_M', match='Postal code', header =0)"
      ],
      "execution_count": 0,
      "outputs": []
    },
    {
      "cell_type": "code",
      "metadata": {
        "id": "V4-TPle9QF9o",
        "colab_type": "code",
        "colab": {
          "base_uri": "https://localhost:8080/",
          "height": 359
        },
        "outputId": "9fbf863a-1bff-4004-c3ff-238a47acac02"
      },
      "source": [
        "df[0].head(10)"
      ],
      "execution_count": 22,
      "outputs": [
        {
          "output_type": "execute_result",
          "data": {
            "text/html": [
              "<div>\n",
              "<style scoped>\n",
              "    .dataframe tbody tr th:only-of-type {\n",
              "        vertical-align: middle;\n",
              "    }\n",
              "\n",
              "    .dataframe tbody tr th {\n",
              "        vertical-align: top;\n",
              "    }\n",
              "\n",
              "    .dataframe thead th {\n",
              "        text-align: right;\n",
              "    }\n",
              "</style>\n",
              "<table border=\"1\" class=\"dataframe\">\n",
              "  <thead>\n",
              "    <tr style=\"text-align: right;\">\n",
              "      <th></th>\n",
              "      <th>Postal code</th>\n",
              "      <th>Borough</th>\n",
              "      <th>Neighborhood</th>\n",
              "    </tr>\n",
              "  </thead>\n",
              "  <tbody>\n",
              "    <tr>\n",
              "      <th>0</th>\n",
              "      <td>M1A</td>\n",
              "      <td>Not assigned</td>\n",
              "      <td>NaN</td>\n",
              "    </tr>\n",
              "    <tr>\n",
              "      <th>1</th>\n",
              "      <td>M2A</td>\n",
              "      <td>Not assigned</td>\n",
              "      <td>NaN</td>\n",
              "    </tr>\n",
              "    <tr>\n",
              "      <th>2</th>\n",
              "      <td>M3A</td>\n",
              "      <td>North York</td>\n",
              "      <td>Parkwoods</td>\n",
              "    </tr>\n",
              "    <tr>\n",
              "      <th>3</th>\n",
              "      <td>M4A</td>\n",
              "      <td>North York</td>\n",
              "      <td>Victoria Village</td>\n",
              "    </tr>\n",
              "    <tr>\n",
              "      <th>4</th>\n",
              "      <td>M5A</td>\n",
              "      <td>Downtown Toronto</td>\n",
              "      <td>Regent Park / Harbourfront</td>\n",
              "    </tr>\n",
              "    <tr>\n",
              "      <th>5</th>\n",
              "      <td>M6A</td>\n",
              "      <td>North York</td>\n",
              "      <td>Lawrence Manor / Lawrence Heights</td>\n",
              "    </tr>\n",
              "    <tr>\n",
              "      <th>6</th>\n",
              "      <td>M7A</td>\n",
              "      <td>Downtown Toronto</td>\n",
              "      <td>Queen's Park / Ontario Provincial Government</td>\n",
              "    </tr>\n",
              "    <tr>\n",
              "      <th>7</th>\n",
              "      <td>M8A</td>\n",
              "      <td>Not assigned</td>\n",
              "      <td>NaN</td>\n",
              "    </tr>\n",
              "    <tr>\n",
              "      <th>8</th>\n",
              "      <td>M9A</td>\n",
              "      <td>Etobicoke</td>\n",
              "      <td>Islington Avenue</td>\n",
              "    </tr>\n",
              "    <tr>\n",
              "      <th>9</th>\n",
              "      <td>M1B</td>\n",
              "      <td>Scarborough</td>\n",
              "      <td>Malvern / Rouge</td>\n",
              "    </tr>\n",
              "  </tbody>\n",
              "</table>\n",
              "</div>"
            ],
            "text/plain": [
              "  Postal code           Borough                                  Neighborhood\n",
              "0         M1A      Not assigned                                           NaN\n",
              "1         M2A      Not assigned                                           NaN\n",
              "2         M3A        North York                                     Parkwoods\n",
              "3         M4A        North York                              Victoria Village\n",
              "4         M5A  Downtown Toronto                    Regent Park / Harbourfront\n",
              "5         M6A        North York             Lawrence Manor / Lawrence Heights\n",
              "6         M7A  Downtown Toronto  Queen's Park / Ontario Provincial Government\n",
              "7         M8A      Not assigned                                           NaN\n",
              "8         M9A         Etobicoke                              Islington Avenue\n",
              "9         M1B       Scarborough                               Malvern / Rouge"
            ]
          },
          "metadata": {
            "tags": []
          },
          "execution_count": 22
        }
      ]
    },
    {
      "cell_type": "code",
      "metadata": {
        "id": "QjCYktPHThY_",
        "colab_type": "code",
        "colab": {}
      },
      "source": [
        ""
      ],
      "execution_count": 0,
      "outputs": []
    }
  ]
}