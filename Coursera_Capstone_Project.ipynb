{
  "nbformat": 4,
  "nbformat_minor": 0,
  "metadata": {
    "colab": {
      "name": "Coursera_Capstone_Project.ipynb",
      "provenance": [],
      "mount_file_id": "https://github.com/Daniel-Loaiza/Coursera_Capstone/blob/master/Coursera_Capstone_Project.ipynb",
      "authorship_tag": "ABX9TyM62+oOEPeI5XnyVv0sm2GQ",
      "include_colab_link": true
    },
    "kernelspec": {
      "name": "python3",
      "display_name": "Python 3"
    }
  },
  "cells": [
    {
      "cell_type": "markdown",
      "metadata": {
        "id": "view-in-github",
        "colab_type": "text"
      },
      "source": [
        "<a href=\"https://colab.research.google.com/github/Daniel-Loaiza/Coursera_Capstone/blob/master/Coursera_Capstone_Project.ipynb\" target=\"_parent\"><img src=\"https://colab.research.google.com/assets/colab-badge.svg\" alt=\"Open In Colab\"/></a>"
      ]
    },
    {
      "cell_type": "markdown",
      "metadata": {
        "id": "1gnF8FAyoF3K",
        "colab_type": "text"
      },
      "source": [
        "#Coursera Capstone Project"
      ]
    },
    {
      "cell_type": "markdown",
      "metadata": {
        "id": "_WfRvxt8oL53",
        "colab_type": "text"
      },
      "source": [
        "Start a Jupyter Notebook using any platform that you are comfortable with and do the following:"
      ]
    },
    {
      "cell_type": "markdown",
      "metadata": {
        "id": "pD9E9ABxoQlE",
        "colab_type": "text"
      },
      "source": [
        "**1.** Write some markdown to explain that this notebook will be mainly used for the capstone project.\n",
        "\n"
      ]
    },
    {
      "cell_type": "markdown",
      "metadata": {
        "id": "z8nxTcOtokSm",
        "colab_type": "text"
      },
      "source": [
        "This Jupyter Notebook is going to be used mainly for the developement of the Capstone Project."
      ]
    },
    {
      "cell_type": "code",
      "metadata": {
        "id": "3tWKCMG_kWeJ",
        "colab_type": "code",
        "colab": {}
      },
      "source": [
        ""
      ],
      "execution_count": 0,
      "outputs": []
    }
  ]
}